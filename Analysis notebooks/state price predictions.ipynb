{
 "cells": [
  {
   "cell_type": "code",
   "execution_count": 1,
   "metadata": {},
   "outputs": [],
   "source": [
    "import pandas as pd"
   ]
  },
  {
   "cell_type": "code",
   "execution_count": 2,
   "metadata": {},
   "outputs": [],
   "source": [
    "housing_data = pd.read_csv('housing_data.csv')"
   ]
  },
  {
   "cell_type": "code",
   "execution_count": 3,
   "metadata": {},
   "outputs": [
    {
     "data": {
      "text/html": [
       "<div>\n",
       "<style scoped>\n",
       "    .dataframe tbody tr th:only-of-type {\n",
       "        vertical-align: middle;\n",
       "    }\n",
       "\n",
       "    .dataframe tbody tr th {\n",
       "        vertical-align: top;\n",
       "    }\n",
       "\n",
       "    .dataframe thead th {\n",
       "        text-align: right;\n",
       "    }\n",
       "</style>\n",
       "<table border=\"1\" class=\"dataframe\">\n",
       "  <thead>\n",
       "    <tr style=\"text-align: right;\">\n",
       "      <th></th>\n",
       "      <th>Date</th>\n",
       "      <th>Median Price of Established House Transfers (Unstratified) ;  Sydney ;</th>\n",
       "      <th>Median Price of Established House Transfers (Unstratified) ;  Rest of NSW ;</th>\n",
       "      <th>Median Price of Established House Transfers (Unstratified) ;  Melbourne ;</th>\n",
       "      <th>Median Price of Established House Transfers (Unstratified) ;  Rest of Vic. ;</th>\n",
       "      <th>Median Price of Established House Transfers (Unstratified) ;  Brisbane ;</th>\n",
       "      <th>Median Price of Established House Transfers (Unstratified) ;  Rest of Qld. ;</th>\n",
       "      <th>Median Price of Established House Transfers (Unstratified) ;  Adelaide ;</th>\n",
       "      <th>Median Price of Established House Transfers (Unstratified) ;  Rest of SA ;</th>\n",
       "      <th>Median Price of Established House Transfers (Unstratified) ;  Perth ;</th>\n",
       "      <th>...</th>\n",
       "      <th>Median Price of Attached Dwelling Transfers (Unstratified) ;  Rest of Qld. ;</th>\n",
       "      <th>Median Price of Attached Dwelling Transfers (Unstratified) ;  Adelaide ;</th>\n",
       "      <th>Median Price of Attached Dwelling Transfers (Unstratified) ;  Rest of SA ;</th>\n",
       "      <th>Median Price of Attached Dwelling Transfers (Unstratified) ;  Perth ;</th>\n",
       "      <th>Median Price of Attached Dwelling Transfers (Unstratified) ;  Rest of WA ;</th>\n",
       "      <th>Median Price of Attached Dwelling Transfers (Unstratified) ;  Hobart ;</th>\n",
       "      <th>Median Price of Attached Dwelling Transfers (Unstratified) ;  Rest of Tas. ;</th>\n",
       "      <th>Median Price of Attached Dwelling Transfers (Unstratified) ;  Darwin ;</th>\n",
       "      <th>Median Price of Attached Dwelling Transfers (Unstratified) ;  Rest of NT ;</th>\n",
       "      <th>Median Price of Attached Dwelling Transfers (Unstratified) ;  Canberra ;</th>\n",
       "    </tr>\n",
       "  </thead>\n",
       "  <tbody>\n",
       "    <tr>\n",
       "      <th>0</th>\n",
       "      <td>2003</td>\n",
       "      <td>520</td>\n",
       "      <td>255</td>\n",
       "      <td>320</td>\n",
       "      <td>185</td>\n",
       "      <td>296</td>\n",
       "      <td>205</td>\n",
       "      <td>247</td>\n",
       "      <td>162</td>\n",
       "      <td>250</td>\n",
       "      <td>...</td>\n",
       "      <td>240.0</td>\n",
       "      <td>191.0</td>\n",
       "      <td>85.0</td>\n",
       "      <td>198.0</td>\n",
       "      <td>138.0</td>\n",
       "      <td>175.0</td>\n",
       "      <td>120.0</td>\n",
       "      <td>135.5</td>\n",
       "      <td>129.0</td>\n",
       "      <td>300.0</td>\n",
       "    </tr>\n",
       "    <tr>\n",
       "      <th>1</th>\n",
       "      <td>2004</td>\n",
       "      <td>515</td>\n",
       "      <td>278</td>\n",
       "      <td>321</td>\n",
       "      <td>205</td>\n",
       "      <td>310</td>\n",
       "      <td>255</td>\n",
       "      <td>270</td>\n",
       "      <td>182</td>\n",
       "      <td>280</td>\n",
       "      <td>...</td>\n",
       "      <td>278.0</td>\n",
       "      <td>220.0</td>\n",
       "      <td>112.0</td>\n",
       "      <td>229.0</td>\n",
       "      <td>165.0</td>\n",
       "      <td>200.0</td>\n",
       "      <td>158.0</td>\n",
       "      <td>171.0</td>\n",
       "      <td>175.0</td>\n",
       "      <td>289.0</td>\n",
       "    </tr>\n",
       "    <tr>\n",
       "      <th>2</th>\n",
       "      <td>2005</td>\n",
       "      <td>500</td>\n",
       "      <td>285</td>\n",
       "      <td>332</td>\n",
       "      <td>220</td>\n",
       "      <td>320</td>\n",
       "      <td>290</td>\n",
       "      <td>280</td>\n",
       "      <td>199</td>\n",
       "      <td>340</td>\n",
       "      <td>...</td>\n",
       "      <td>290.0</td>\n",
       "      <td>228.8</td>\n",
       "      <td>145.0</td>\n",
       "      <td>276.0</td>\n",
       "      <td>220.0</td>\n",
       "      <td>215.0</td>\n",
       "      <td>165.0</td>\n",
       "      <td>225.0</td>\n",
       "      <td>197.8</td>\n",
       "      <td>308.0</td>\n",
       "    </tr>\n",
       "    <tr>\n",
       "      <th>3</th>\n",
       "      <td>2006</td>\n",
       "      <td>500</td>\n",
       "      <td>290</td>\n",
       "      <td>360</td>\n",
       "      <td>230</td>\n",
       "      <td>343</td>\n",
       "      <td>330</td>\n",
       "      <td>300</td>\n",
       "      <td>215</td>\n",
       "      <td>470</td>\n",
       "      <td>...</td>\n",
       "      <td>310.0</td>\n",
       "      <td>246.0</td>\n",
       "      <td>150.0</td>\n",
       "      <td>362.5</td>\n",
       "      <td>297.0</td>\n",
       "      <td>231.0</td>\n",
       "      <td>185.5</td>\n",
       "      <td>260.0</td>\n",
       "      <td>198.0</td>\n",
       "      <td>317.5</td>\n",
       "    </tr>\n",
       "    <tr>\n",
       "      <th>4</th>\n",
       "      <td>2007</td>\n",
       "      <td>540</td>\n",
       "      <td>310</td>\n",
       "      <td>410</td>\n",
       "      <td>245</td>\n",
       "      <td>415</td>\n",
       "      <td>380</td>\n",
       "      <td>358</td>\n",
       "      <td>245</td>\n",
       "      <td>480</td>\n",
       "      <td>...</td>\n",
       "      <td>348.0</td>\n",
       "      <td>290.0</td>\n",
       "      <td>169.5</td>\n",
       "      <td>385.0</td>\n",
       "      <td>319.5</td>\n",
       "      <td>260.0</td>\n",
       "      <td>196.3</td>\n",
       "      <td>307.5</td>\n",
       "      <td>210.0</td>\n",
       "      <td>365.0</td>\n",
       "    </tr>\n",
       "    <tr>\n",
       "      <th>5</th>\n",
       "      <td>2008</td>\n",
       "      <td>468</td>\n",
       "      <td>290</td>\n",
       "      <td>385</td>\n",
       "      <td>236</td>\n",
       "      <td>399</td>\n",
       "      <td>365</td>\n",
       "      <td>355</td>\n",
       "      <td>245</td>\n",
       "      <td>425</td>\n",
       "      <td>...</td>\n",
       "      <td>316.0</td>\n",
       "      <td>300.8</td>\n",
       "      <td>202.0</td>\n",
       "      <td>350.0</td>\n",
       "      <td>300.0</td>\n",
       "      <td>245.0</td>\n",
       "      <td>200.0</td>\n",
       "      <td>329.0</td>\n",
       "      <td>240.0</td>\n",
       "      <td>360.5</td>\n",
       "    </tr>\n",
       "    <tr>\n",
       "      <th>6</th>\n",
       "      <td>2009</td>\n",
       "      <td>595</td>\n",
       "      <td>340</td>\n",
       "      <td>475</td>\n",
       "      <td>266</td>\n",
       "      <td>455</td>\n",
       "      <td>395</td>\n",
       "      <td>398</td>\n",
       "      <td>267</td>\n",
       "      <td>505</td>\n",
       "      <td>...</td>\n",
       "      <td>356.1</td>\n",
       "      <td>326.8</td>\n",
       "      <td>196.0</td>\n",
       "      <td>415.0</td>\n",
       "      <td>339.0</td>\n",
       "      <td>285.0</td>\n",
       "      <td>220.0</td>\n",
       "      <td>400.0</td>\n",
       "      <td>332.5</td>\n",
       "      <td>402.5</td>\n",
       "    </tr>\n",
       "    <tr>\n",
       "      <th>7</th>\n",
       "      <td>2010</td>\n",
       "      <td>620</td>\n",
       "      <td>340</td>\n",
       "      <td>520</td>\n",
       "      <td>292</td>\n",
       "      <td>460</td>\n",
       "      <td>387</td>\n",
       "      <td>410</td>\n",
       "      <td>277</td>\n",
       "      <td>500</td>\n",
       "      <td>...</td>\n",
       "      <td>347.5</td>\n",
       "      <td>335.0</td>\n",
       "      <td>185.0</td>\n",
       "      <td>410.0</td>\n",
       "      <td>335.0</td>\n",
       "      <td>288.0</td>\n",
       "      <td>230.0</td>\n",
       "      <td>420.5</td>\n",
       "      <td>350.0</td>\n",
       "      <td>424.9</td>\n",
       "    </tr>\n",
       "    <tr>\n",
       "      <th>8</th>\n",
       "      <td>2011</td>\n",
       "      <td>533</td>\n",
       "      <td>330</td>\n",
       "      <td>495</td>\n",
       "      <td>290</td>\n",
       "      <td>430</td>\n",
       "      <td>380</td>\n",
       "      <td>385</td>\n",
       "      <td>270</td>\n",
       "      <td>480</td>\n",
       "      <td>...</td>\n",
       "      <td>327.1</td>\n",
       "      <td>327.3</td>\n",
       "      <td>176.0</td>\n",
       "      <td>400.0</td>\n",
       "      <td>328.3</td>\n",
       "      <td>275.0</td>\n",
       "      <td>240.0</td>\n",
       "      <td>399.5</td>\n",
       "      <td>336.5</td>\n",
       "      <td>415.0</td>\n",
       "    </tr>\n",
       "    <tr>\n",
       "      <th>9</th>\n",
       "      <td>2012</td>\n",
       "      <td>640</td>\n",
       "      <td>360</td>\n",
       "      <td>508</td>\n",
       "      <td>291</td>\n",
       "      <td>440</td>\n",
       "      <td>380</td>\n",
       "      <td>395</td>\n",
       "      <td>250</td>\n",
       "      <td>510</td>\n",
       "      <td>...</td>\n",
       "      <td>322.3</td>\n",
       "      <td>325.0</td>\n",
       "      <td>170.0</td>\n",
       "      <td>410.0</td>\n",
       "      <td>310.0</td>\n",
       "      <td>294.0</td>\n",
       "      <td>220.0</td>\n",
       "      <td>410.5</td>\n",
       "      <td>300.0</td>\n",
       "      <td>415.5</td>\n",
       "    </tr>\n",
       "    <tr>\n",
       "      <th>10</th>\n",
       "      <td>2013</td>\n",
       "      <td>745</td>\n",
       "      <td>370</td>\n",
       "      <td>521</td>\n",
       "      <td>308</td>\n",
       "      <td>465</td>\n",
       "      <td>395</td>\n",
       "      <td>412</td>\n",
       "      <td>268</td>\n",
       "      <td>552</td>\n",
       "      <td>...</td>\n",
       "      <td>331.0</td>\n",
       "      <td>330.0</td>\n",
       "      <td>196.0</td>\n",
       "      <td>450.0</td>\n",
       "      <td>320.0</td>\n",
       "      <td>295.0</td>\n",
       "      <td>220.0</td>\n",
       "      <td>481.0</td>\n",
       "      <td>370.0</td>\n",
       "      <td>420.5</td>\n",
       "    </tr>\n",
       "    <tr>\n",
       "      <th>11</th>\n",
       "      <td>2014</td>\n",
       "      <td>816</td>\n",
       "      <td>380</td>\n",
       "      <td>552</td>\n",
       "      <td>298</td>\n",
       "      <td>467</td>\n",
       "      <td>405</td>\n",
       "      <td>425</td>\n",
       "      <td>275</td>\n",
       "      <td>531</td>\n",
       "      <td>...</td>\n",
       "      <td>340.0</td>\n",
       "      <td>345.0</td>\n",
       "      <td>180.1</td>\n",
       "      <td>445.0</td>\n",
       "      <td>320.0</td>\n",
       "      <td>279.5</td>\n",
       "      <td>235.0</td>\n",
       "      <td>465.0</td>\n",
       "      <td>339.5</td>\n",
       "      <td>422.0</td>\n",
       "    </tr>\n",
       "    <tr>\n",
       "      <th>12</th>\n",
       "      <td>2015</td>\n",
       "      <td>915</td>\n",
       "      <td>412</td>\n",
       "      <td>612</td>\n",
       "      <td>310</td>\n",
       "      <td>490</td>\n",
       "      <td>420</td>\n",
       "      <td>436</td>\n",
       "      <td>273</td>\n",
       "      <td>525</td>\n",
       "      <td>...</td>\n",
       "      <td>360.0</td>\n",
       "      <td>345.0</td>\n",
       "      <td>182.0</td>\n",
       "      <td>430.0</td>\n",
       "      <td>295.0</td>\n",
       "      <td>292.0</td>\n",
       "      <td>235.0</td>\n",
       "      <td>460.0</td>\n",
       "      <td>265.0</td>\n",
       "      <td>419.9</td>\n",
       "    </tr>\n",
       "    <tr>\n",
       "      <th>13</th>\n",
       "      <td>2016</td>\n",
       "      <td>985</td>\n",
       "      <td>445</td>\n",
       "      <td>675</td>\n",
       "      <td>320</td>\n",
       "      <td>515</td>\n",
       "      <td>439</td>\n",
       "      <td>447</td>\n",
       "      <td>280</td>\n",
       "      <td>525</td>\n",
       "      <td>...</td>\n",
       "      <td>375.0</td>\n",
       "      <td>365.0</td>\n",
       "      <td>205.0</td>\n",
       "      <td>410.0</td>\n",
       "      <td>288.0</td>\n",
       "      <td>305.0</td>\n",
       "      <td>240.0</td>\n",
       "      <td>381.1</td>\n",
       "      <td>326.3</td>\n",
       "      <td>430.0</td>\n",
       "    </tr>\n",
       "    <tr>\n",
       "      <th>14</th>\n",
       "      <td>2017</td>\n",
       "      <td>1029</td>\n",
       "      <td>471</td>\n",
       "      <td>750</td>\n",
       "      <td>350</td>\n",
       "      <td>535</td>\n",
       "      <td>450</td>\n",
       "      <td>470</td>\n",
       "      <td>273</td>\n",
       "      <td>515</td>\n",
       "      <td>...</td>\n",
       "      <td>385.0</td>\n",
       "      <td>390.0</td>\n",
       "      <td>170.0</td>\n",
       "      <td>410.0</td>\n",
       "      <td>255.0</td>\n",
       "      <td>330.0</td>\n",
       "      <td>250.0</td>\n",
       "      <td>340.0</td>\n",
       "      <td>290.0</td>\n",
       "      <td>445.5</td>\n",
       "    </tr>\n",
       "    <tr>\n",
       "      <th>15</th>\n",
       "      <td>2018</td>\n",
       "      <td>940</td>\n",
       "      <td>464</td>\n",
       "      <td>735</td>\n",
       "      <td>370</td>\n",
       "      <td>540</td>\n",
       "      <td>433</td>\n",
       "      <td>480</td>\n",
       "      <td>295</td>\n",
       "      <td>489</td>\n",
       "      <td>...</td>\n",
       "      <td>390.0</td>\n",
       "      <td>371.0</td>\n",
       "      <td>190.0</td>\n",
       "      <td>392.0</td>\n",
       "      <td>265.0</td>\n",
       "      <td>375.0</td>\n",
       "      <td>259.5</td>\n",
       "      <td>340.0</td>\n",
       "      <td>360.0</td>\n",
       "      <td>447.9</td>\n",
       "    </tr>\n",
       "    <tr>\n",
       "      <th>16</th>\n",
       "      <td>2019</td>\n",
       "      <td>986</td>\n",
       "      <td>500</td>\n",
       "      <td>760</td>\n",
       "      <td>390</td>\n",
       "      <td>550</td>\n",
       "      <td>448</td>\n",
       "      <td>485</td>\n",
       "      <td>290</td>\n",
       "      <td>495</td>\n",
       "      <td>...</td>\n",
       "      <td>395.0</td>\n",
       "      <td>385.0</td>\n",
       "      <td>190.0</td>\n",
       "      <td>380.0</td>\n",
       "      <td>245.0</td>\n",
       "      <td>400.0</td>\n",
       "      <td>295.0</td>\n",
       "      <td>320.0</td>\n",
       "      <td>300.0</td>\n",
       "      <td>471.5</td>\n",
       "    </tr>\n",
       "    <tr>\n",
       "      <th>17</th>\n",
       "      <td>2020</td>\n",
       "      <td>1025</td>\n",
       "      <td>555</td>\n",
       "      <td>780</td>\n",
       "      <td>465</td>\n",
       "      <td>580</td>\n",
       "      <td>460</td>\n",
       "      <td>520</td>\n",
       "      <td>305</td>\n",
       "      <td>526</td>\n",
       "      <td>...</td>\n",
       "      <td>425.0</td>\n",
       "      <td>415.0</td>\n",
       "      <td>225.0</td>\n",
       "      <td>400.0</td>\n",
       "      <td>275.0</td>\n",
       "      <td>440.0</td>\n",
       "      <td>313.5</td>\n",
       "      <td>298.0</td>\n",
       "      <td>359.0</td>\n",
       "      <td>500.0</td>\n",
       "    </tr>\n",
       "  </tbody>\n",
       "</table>\n",
       "<p>18 rows × 31 columns</p>\n",
       "</div>"
      ],
      "text/plain": [
       "    Date  \\\n",
       "0   2003   \n",
       "1   2004   \n",
       "2   2005   \n",
       "3   2006   \n",
       "4   2007   \n",
       "5   2008   \n",
       "6   2009   \n",
       "7   2010   \n",
       "8   2011   \n",
       "9   2012   \n",
       "10  2013   \n",
       "11  2014   \n",
       "12  2015   \n",
       "13  2016   \n",
       "14  2017   \n",
       "15  2018   \n",
       "16  2019   \n",
       "17  2020   \n",
       "\n",
       "    Median Price of Established House Transfers (Unstratified) ;  Sydney ;  \\\n",
       "0                                                 520                        \n",
       "1                                                 515                        \n",
       "2                                                 500                        \n",
       "3                                                 500                        \n",
       "4                                                 540                        \n",
       "5                                                 468                        \n",
       "6                                                 595                        \n",
       "7                                                 620                        \n",
       "8                                                 533                        \n",
       "9                                                 640                        \n",
       "10                                                745                        \n",
       "11                                                816                        \n",
       "12                                                915                        \n",
       "13                                                985                        \n",
       "14                                               1029                        \n",
       "15                                                940                        \n",
       "16                                                986                        \n",
       "17                                               1025                        \n",
       "\n",
       "    Median Price of Established House Transfers (Unstratified) ;  Rest of NSW ;  \\\n",
       "0                                                 255                             \n",
       "1                                                 278                             \n",
       "2                                                 285                             \n",
       "3                                                 290                             \n",
       "4                                                 310                             \n",
       "5                                                 290                             \n",
       "6                                                 340                             \n",
       "7                                                 340                             \n",
       "8                                                 330                             \n",
       "9                                                 360                             \n",
       "10                                                370                             \n",
       "11                                                380                             \n",
       "12                                                412                             \n",
       "13                                                445                             \n",
       "14                                                471                             \n",
       "15                                                464                             \n",
       "16                                                500                             \n",
       "17                                                555                             \n",
       "\n",
       "    Median Price of Established House Transfers (Unstratified) ;  Melbourne ;  \\\n",
       "0                                                 320                           \n",
       "1                                                 321                           \n",
       "2                                                 332                           \n",
       "3                                                 360                           \n",
       "4                                                 410                           \n",
       "5                                                 385                           \n",
       "6                                                 475                           \n",
       "7                                                 520                           \n",
       "8                                                 495                           \n",
       "9                                                 508                           \n",
       "10                                                521                           \n",
       "11                                                552                           \n",
       "12                                                612                           \n",
       "13                                                675                           \n",
       "14                                                750                           \n",
       "15                                                735                           \n",
       "16                                                760                           \n",
       "17                                                780                           \n",
       "\n",
       "    Median Price of Established House Transfers (Unstratified) ;  Rest of Vic. ;  \\\n",
       "0                                                 185                              \n",
       "1                                                 205                              \n",
       "2                                                 220                              \n",
       "3                                                 230                              \n",
       "4                                                 245                              \n",
       "5                                                 236                              \n",
       "6                                                 266                              \n",
       "7                                                 292                              \n",
       "8                                                 290                              \n",
       "9                                                 291                              \n",
       "10                                                308                              \n",
       "11                                                298                              \n",
       "12                                                310                              \n",
       "13                                                320                              \n",
       "14                                                350                              \n",
       "15                                                370                              \n",
       "16                                                390                              \n",
       "17                                                465                              \n",
       "\n",
       "    Median Price of Established House Transfers (Unstratified) ;  Brisbane ;  \\\n",
       "0                                                 296                          \n",
       "1                                                 310                          \n",
       "2                                                 320                          \n",
       "3                                                 343                          \n",
       "4                                                 415                          \n",
       "5                                                 399                          \n",
       "6                                                 455                          \n",
       "7                                                 460                          \n",
       "8                                                 430                          \n",
       "9                                                 440                          \n",
       "10                                                465                          \n",
       "11                                                467                          \n",
       "12                                                490                          \n",
       "13                                                515                          \n",
       "14                                                535                          \n",
       "15                                                540                          \n",
       "16                                                550                          \n",
       "17                                                580                          \n",
       "\n",
       "    Median Price of Established House Transfers (Unstratified) ;  Rest of Qld. ;  \\\n",
       "0                                                 205                              \n",
       "1                                                 255                              \n",
       "2                                                 290                              \n",
       "3                                                 330                              \n",
       "4                                                 380                              \n",
       "5                                                 365                              \n",
       "6                                                 395                              \n",
       "7                                                 387                              \n",
       "8                                                 380                              \n",
       "9                                                 380                              \n",
       "10                                                395                              \n",
       "11                                                405                              \n",
       "12                                                420                              \n",
       "13                                                439                              \n",
       "14                                                450                              \n",
       "15                                                433                              \n",
       "16                                                448                              \n",
       "17                                                460                              \n",
       "\n",
       "    Median Price of Established House Transfers (Unstratified) ;  Adelaide ;  \\\n",
       "0                                                 247                          \n",
       "1                                                 270                          \n",
       "2                                                 280                          \n",
       "3                                                 300                          \n",
       "4                                                 358                          \n",
       "5                                                 355                          \n",
       "6                                                 398                          \n",
       "7                                                 410                          \n",
       "8                                                 385                          \n",
       "9                                                 395                          \n",
       "10                                                412                          \n",
       "11                                                425                          \n",
       "12                                                436                          \n",
       "13                                                447                          \n",
       "14                                                470                          \n",
       "15                                                480                          \n",
       "16                                                485                          \n",
       "17                                                520                          \n",
       "\n",
       "    Median Price of Established House Transfers (Unstratified) ;  Rest of SA ;  \\\n",
       "0                                                 162                            \n",
       "1                                                 182                            \n",
       "2                                                 199                            \n",
       "3                                                 215                            \n",
       "4                                                 245                            \n",
       "5                                                 245                            \n",
       "6                                                 267                            \n",
       "7                                                 277                            \n",
       "8                                                 270                            \n",
       "9                                                 250                            \n",
       "10                                                268                            \n",
       "11                                                275                            \n",
       "12                                                273                            \n",
       "13                                                280                            \n",
       "14                                                273                            \n",
       "15                                                295                            \n",
       "16                                                290                            \n",
       "17                                                305                            \n",
       "\n",
       "    Median Price of Established House Transfers (Unstratified) ;  Perth ;  \\\n",
       "0                                                 250                       \n",
       "1                                                 280                       \n",
       "2                                                 340                       \n",
       "3                                                 470                       \n",
       "4                                                 480                       \n",
       "5                                                 425                       \n",
       "6                                                 505                       \n",
       "7                                                 500                       \n",
       "8                                                 480                       \n",
       "9                                                 510                       \n",
       "10                                                552                       \n",
       "11                                                531                       \n",
       "12                                                525                       \n",
       "13                                                525                       \n",
       "14                                                515                       \n",
       "15                                                489                       \n",
       "16                                                495                       \n",
       "17                                                526                       \n",
       "\n",
       "    ...  \\\n",
       "0   ...   \n",
       "1   ...   \n",
       "2   ...   \n",
       "3   ...   \n",
       "4   ...   \n",
       "5   ...   \n",
       "6   ...   \n",
       "7   ...   \n",
       "8   ...   \n",
       "9   ...   \n",
       "10  ...   \n",
       "11  ...   \n",
       "12  ...   \n",
       "13  ...   \n",
       "14  ...   \n",
       "15  ...   \n",
       "16  ...   \n",
       "17  ...   \n",
       "\n",
       "    Median Price of Attached Dwelling Transfers (Unstratified) ;  Rest of Qld. ;  \\\n",
       "0                                               240.0                              \n",
       "1                                               278.0                              \n",
       "2                                               290.0                              \n",
       "3                                               310.0                              \n",
       "4                                               348.0                              \n",
       "5                                               316.0                              \n",
       "6                                               356.1                              \n",
       "7                                               347.5                              \n",
       "8                                               327.1                              \n",
       "9                                               322.3                              \n",
       "10                                              331.0                              \n",
       "11                                              340.0                              \n",
       "12                                              360.0                              \n",
       "13                                              375.0                              \n",
       "14                                              385.0                              \n",
       "15                                              390.0                              \n",
       "16                                              395.0                              \n",
       "17                                              425.0                              \n",
       "\n",
       "    Median Price of Attached Dwelling Transfers (Unstratified) ;  Adelaide ;  \\\n",
       "0                                               191.0                          \n",
       "1                                               220.0                          \n",
       "2                                               228.8                          \n",
       "3                                               246.0                          \n",
       "4                                               290.0                          \n",
       "5                                               300.8                          \n",
       "6                                               326.8                          \n",
       "7                                               335.0                          \n",
       "8                                               327.3                          \n",
       "9                                               325.0                          \n",
       "10                                              330.0                          \n",
       "11                                              345.0                          \n",
       "12                                              345.0                          \n",
       "13                                              365.0                          \n",
       "14                                              390.0                          \n",
       "15                                              371.0                          \n",
       "16                                              385.0                          \n",
       "17                                              415.0                          \n",
       "\n",
       "    Median Price of Attached Dwelling Transfers (Unstratified) ;  Rest of SA ;  \\\n",
       "0                                                85.0                            \n",
       "1                                               112.0                            \n",
       "2                                               145.0                            \n",
       "3                                               150.0                            \n",
       "4                                               169.5                            \n",
       "5                                               202.0                            \n",
       "6                                               196.0                            \n",
       "7                                               185.0                            \n",
       "8                                               176.0                            \n",
       "9                                               170.0                            \n",
       "10                                              196.0                            \n",
       "11                                              180.1                            \n",
       "12                                              182.0                            \n",
       "13                                              205.0                            \n",
       "14                                              170.0                            \n",
       "15                                              190.0                            \n",
       "16                                              190.0                            \n",
       "17                                              225.0                            \n",
       "\n",
       "    Median Price of Attached Dwelling Transfers (Unstratified) ;  Perth ;  \\\n",
       "0                                               198.0                       \n",
       "1                                               229.0                       \n",
       "2                                               276.0                       \n",
       "3                                               362.5                       \n",
       "4                                               385.0                       \n",
       "5                                               350.0                       \n",
       "6                                               415.0                       \n",
       "7                                               410.0                       \n",
       "8                                               400.0                       \n",
       "9                                               410.0                       \n",
       "10                                              450.0                       \n",
       "11                                              445.0                       \n",
       "12                                              430.0                       \n",
       "13                                              410.0                       \n",
       "14                                              410.0                       \n",
       "15                                              392.0                       \n",
       "16                                              380.0                       \n",
       "17                                              400.0                       \n",
       "\n",
       "    Median Price of Attached Dwelling Transfers (Unstratified) ;  Rest of WA ;  \\\n",
       "0                                               138.0                            \n",
       "1                                               165.0                            \n",
       "2                                               220.0                            \n",
       "3                                               297.0                            \n",
       "4                                               319.5                            \n",
       "5                                               300.0                            \n",
       "6                                               339.0                            \n",
       "7                                               335.0                            \n",
       "8                                               328.3                            \n",
       "9                                               310.0                            \n",
       "10                                              320.0                            \n",
       "11                                              320.0                            \n",
       "12                                              295.0                            \n",
       "13                                              288.0                            \n",
       "14                                              255.0                            \n",
       "15                                              265.0                            \n",
       "16                                              245.0                            \n",
       "17                                              275.0                            \n",
       "\n",
       "    Median Price of Attached Dwelling Transfers (Unstratified) ;  Hobart ;  \\\n",
       "0                                               175.0                        \n",
       "1                                               200.0                        \n",
       "2                                               215.0                        \n",
       "3                                               231.0                        \n",
       "4                                               260.0                        \n",
       "5                                               245.0                        \n",
       "6                                               285.0                        \n",
       "7                                               288.0                        \n",
       "8                                               275.0                        \n",
       "9                                               294.0                        \n",
       "10                                              295.0                        \n",
       "11                                              279.5                        \n",
       "12                                              292.0                        \n",
       "13                                              305.0                        \n",
       "14                                              330.0                        \n",
       "15                                              375.0                        \n",
       "16                                              400.0                        \n",
       "17                                              440.0                        \n",
       "\n",
       "    Median Price of Attached Dwelling Transfers (Unstratified) ;  Rest of Tas. ;  \\\n",
       "0                                               120.0                              \n",
       "1                                               158.0                              \n",
       "2                                               165.0                              \n",
       "3                                               185.5                              \n",
       "4                                               196.3                              \n",
       "5                                               200.0                              \n",
       "6                                               220.0                              \n",
       "7                                               230.0                              \n",
       "8                                               240.0                              \n",
       "9                                               220.0                              \n",
       "10                                              220.0                              \n",
       "11                                              235.0                              \n",
       "12                                              235.0                              \n",
       "13                                              240.0                              \n",
       "14                                              250.0                              \n",
       "15                                              259.5                              \n",
       "16                                              295.0                              \n",
       "17                                              313.5                              \n",
       "\n",
       "    Median Price of Attached Dwelling Transfers (Unstratified) ;  Darwin ;  \\\n",
       "0                                               135.5                        \n",
       "1                                               171.0                        \n",
       "2                                               225.0                        \n",
       "3                                               260.0                        \n",
       "4                                               307.5                        \n",
       "5                                               329.0                        \n",
       "6                                               400.0                        \n",
       "7                                               420.5                        \n",
       "8                                               399.5                        \n",
       "9                                               410.5                        \n",
       "10                                              481.0                        \n",
       "11                                              465.0                        \n",
       "12                                              460.0                        \n",
       "13                                              381.1                        \n",
       "14                                              340.0                        \n",
       "15                                              340.0                        \n",
       "16                                              320.0                        \n",
       "17                                              298.0                        \n",
       "\n",
       "    Median Price of Attached Dwelling Transfers (Unstratified) ;  Rest of NT ;  \\\n",
       "0                                               129.0                            \n",
       "1                                               175.0                            \n",
       "2                                               197.8                            \n",
       "3                                               198.0                            \n",
       "4                                               210.0                            \n",
       "5                                               240.0                            \n",
       "6                                               332.5                            \n",
       "7                                               350.0                            \n",
       "8                                               336.5                            \n",
       "9                                               300.0                            \n",
       "10                                              370.0                            \n",
       "11                                              339.5                            \n",
       "12                                              265.0                            \n",
       "13                                              326.3                            \n",
       "14                                              290.0                            \n",
       "15                                              360.0                            \n",
       "16                                              300.0                            \n",
       "17                                              359.0                            \n",
       "\n",
       "    Median Price of Attached Dwelling Transfers (Unstratified) ;  Canberra ;  \n",
       "0                                               300.0                         \n",
       "1                                               289.0                         \n",
       "2                                               308.0                         \n",
       "3                                               317.5                         \n",
       "4                                               365.0                         \n",
       "5                                               360.5                         \n",
       "6                                               402.5                         \n",
       "7                                               424.9                         \n",
       "8                                               415.0                         \n",
       "9                                               415.5                         \n",
       "10                                              420.5                         \n",
       "11                                              422.0                         \n",
       "12                                              419.9                         \n",
       "13                                              430.0                         \n",
       "14                                              445.5                         \n",
       "15                                              447.9                         \n",
       "16                                              471.5                         \n",
       "17                                              500.0                         \n",
       "\n",
       "[18 rows x 31 columns]"
      ]
     },
     "execution_count": 3,
     "metadata": {},
     "output_type": "execute_result"
    }
   ],
   "source": [
    "housing_data"
   ]
  },
  {
   "cell_type": "code",
   "execution_count": 9,
   "metadata": {},
   "outputs": [],
   "source": [
    "sydney_median = housing_data.iloc[:,1] "
   ]
  },
  {
   "cell_type": "code",
   "execution_count": 21,
   "metadata": {},
   "outputs": [
    {
     "name": "stdout",
     "output_type": "stream",
     "text": [
      "-0.009615384615384616\n",
      "-0.02912621359223301\n",
      "0.0\n",
      "0.08\n",
      "-0.13333333333333333\n",
      "0.27136752136752135\n",
      "0.04201680672268908\n",
      "-0.1403225806451613\n",
      "0.20075046904315197\n",
      "0.1640625\n",
      "0.0953020134228188\n",
      "0.1213235294117647\n",
      "0.07650273224043716\n",
      "0.04467005076142132\n",
      "-0.08649173955296405\n",
      "0.04893617021276596\n",
      "0.03955375253549696\n",
      "-0.9563557614456116\n"
     ]
    }
   ],
   "source": []
  },
  {
   "cell_type": "code",
   "execution_count": 22,
   "metadata": {},
   "outputs": [
    {
     "name": "stdout",
     "output_type": "stream",
     "text": [
      "[-0.009615384615384616, -0.02912621359223301, 0.0, 0.08, -0.13333333333333333, 0.27136752136752135, 0.04201680672268908, -0.1403225806451613, 0.20075046904315197, 0.1640625, 0.0953020134228188, 0.1213235294117647, 0.07650273224043716, 0.04467005076142132, -0.08649173955296405, 0.04893617021276596, 0.03955375253549696]\n"
     ]
    }
   ],
   "source": [
    "percentage = []\n",
    "for i in range (1, len (sydney_median)):\n",
    "    percentage.append((sydney_median[i]-sydney_median[i-1])/sydney_median[i-1])\n",
    "print(percentage)"
   ]
  },
  {
   "cell_type": "code",
   "execution_count": 28,
   "metadata": {},
   "outputs": [],
   "source": [
    "average_percentage = sum(percentage)/len(percentage)"
   ]
  },
  {
   "cell_type": "code",
   "execution_count": 29,
   "metadata": {},
   "outputs": [
    {
     "data": {
      "text/plain": [
       "1025"
      ]
     },
     "execution_count": 29,
     "metadata": {},
     "output_type": "execute_result"
    }
   ],
   "source": [
    "sydney_median[len(sydney_median)-1]"
   ]
  },
  {
   "cell_type": "code",
   "execution_count": 36,
   "metadata": {},
   "outputs": [],
   "source": [
    "median_next = round(average_percentage*sydney_median[len(sydney_median)-1])+sydney_median[len(sydney_median)-1]"
   ]
  },
  {
   "cell_type": "code",
   "execution_count": 37,
   "metadata": {},
   "outputs": [],
   "source": [
    "sydney_median2 = []\n",
    "for median in sydney_median:\n",
    "    sydney_median2.append(median)"
   ]
  },
  {
   "cell_type": "code",
   "execution_count": 38,
   "metadata": {},
   "outputs": [],
   "source": [
    "for i in range (5):\n",
    "    sydney_median2.append(median_next)\n",
    "    percentage = []\n",
    "    for i in range (1, len (sydney_median2)):\n",
    "        percentage.append((sydney_median2[i]-sydney_median2[i-1])/sydney_median2[i-1])\n",
    "    average_percentage = sum(percentage)/len(percentage)\n",
    "    median_next = round(average_percentage*sydney_median2[len(sydney_median2)-1])+sydney_median2[len(sydney_median2)-1]"
   ]
  },
  {
   "cell_type": "code",
   "execution_count": 39,
   "metadata": {},
   "outputs": [
    {
     "data": {
      "text/plain": [
       "[520,\n",
       " 515,\n",
       " 500,\n",
       " 500,\n",
       " 540,\n",
       " 468,\n",
       " 595,\n",
       " 620,\n",
       " 533,\n",
       " 640,\n",
       " 745,\n",
       " 816,\n",
       " 915,\n",
       " 985,\n",
       " 1029,\n",
       " 940,\n",
       " 986,\n",
       " 1025,\n",
       " 1072,\n",
       " 1122,\n",
       " 1174,\n",
       " 1228,\n",
       " 1285]"
      ]
     },
     "execution_count": 39,
     "metadata": {},
     "output_type": "execute_result"
    }
   ],
   "source": [
    "sydney_median2"
   ]
  },
  {
   "cell_type": "code",
   "execution_count": 40,
   "metadata": {},
   "outputs": [],
   "source": [
    "melbourne_median = housing_data.iloc[:,3] "
   ]
  },
  {
   "cell_type": "code",
   "execution_count": 41,
   "metadata": {},
   "outputs": [
    {
     "name": "stdout",
     "output_type": "stream",
     "text": [
      "0     320\n",
      "1     321\n",
      "2     332\n",
      "3     360\n",
      "4     410\n",
      "5     385\n",
      "6     475\n",
      "7     520\n",
      "8     495\n",
      "9     508\n",
      "10    521\n",
      "11    552\n",
      "12    612\n",
      "13    675\n",
      "14    750\n",
      "15    735\n",
      "16    760\n",
      "17    780\n",
      "Name: Median Price of Established House Transfers (Unstratified) ;  Melbourne ;, dtype: int64\n"
     ]
    }
   ],
   "source": [
    "print(melbourne_median)"
   ]
  },
  {
   "cell_type": "code",
   "execution_count": 42,
   "metadata": {},
   "outputs": [
    {
     "name": "stdout",
     "output_type": "stream",
     "text": [
      "[0.003125, 0.03426791277258567, 0.08433734939759036, 0.1388888888888889, -0.06097560975609756, 0.23376623376623376, 0.09473684210526316, -0.04807692307692308, 0.026262626262626262, 0.025590551181102362, 0.05950095969289827, 0.10869565217391304, 0.10294117647058823, 0.1111111111111111, -0.02, 0.034013605442176874, 0.02631578947368421]\n"
     ]
    }
   ],
   "source": [
    "percentage = []\n",
    "for i in range (1, len (melbourne_median)):\n",
    "    percentage.append((melbourne_median[i]-melbourne_median[i-1])/melbourne_median[i-1])\n",
    "print(percentage)"
   ]
  },
  {
   "cell_type": "code",
   "execution_count": 43,
   "metadata": {},
   "outputs": [],
   "source": [
    "average_percentage = sum(percentage)/len(percentage)"
   ]
  },
  {
   "cell_type": "code",
   "execution_count": 44,
   "metadata": {},
   "outputs": [
    {
     "data": {
      "text/plain": [
       "780"
      ]
     },
     "execution_count": 44,
     "metadata": {},
     "output_type": "execute_result"
    }
   ],
   "source": [
    "melbourne_median[len(melbourne_median)-1]"
   ]
  },
  {
   "cell_type": "code",
   "execution_count": 45,
   "metadata": {},
   "outputs": [],
   "source": [
    "median_next = round(average_percentage*melbourne_median[len(melbourne_median)-1])+melbourne_median[len(melbourne_median)-1]"
   ]
  },
  {
   "cell_type": "code",
   "execution_count": 46,
   "metadata": {},
   "outputs": [],
   "source": [
    "melbourne_median2 = []\n",
    "for median in melbourne_median:\n",
    "    melbourne_median2.append(median)"
   ]
  },
  {
   "cell_type": "code",
   "execution_count": 47,
   "metadata": {},
   "outputs": [],
   "source": [
    "for i in range (5):\n",
    "    melbourne_median2.append(median_next)\n",
    "    percentage = []\n",
    "    for i in range (1, len (melbourne_median2)):\n",
    "        percentage.append((melbourne_median2[i]-melbourne_median2[i-1])/melbourne_median2[i-1])\n",
    "    average_percentage = sum(percentage)/len(percentage)\n",
    "    median_next = round(average_percentage*melbourne_median2[len(melbourne_median2)-1])+melbourne_median2[len(melbourne_median2)-1]"
   ]
  },
  {
   "cell_type": "code",
   "execution_count": 48,
   "metadata": {},
   "outputs": [
    {
     "data": {
      "text/plain": [
       "[320,\n",
       " 321,\n",
       " 332,\n",
       " 360,\n",
       " 410,\n",
       " 385,\n",
       " 475,\n",
       " 520,\n",
       " 495,\n",
       " 508,\n",
       " 521,\n",
       " 552,\n",
       " 612,\n",
       " 675,\n",
       " 750,\n",
       " 735,\n",
       " 760,\n",
       " 780,\n",
       " 824,\n",
       " 870,\n",
       " 919,\n",
       " 971,\n",
       " 1026]"
      ]
     },
     "execution_count": 48,
     "metadata": {},
     "output_type": "execute_result"
    }
   ],
   "source": [
    "melbourne_median2"
   ]
  },
  {
   "cell_type": "code",
   "execution_count": 49,
   "metadata": {},
   "outputs": [
    {
     "name": "stdout",
     "output_type": "stream",
     "text": [
      "0     296\n",
      "1     310\n",
      "2     320\n",
      "3     343\n",
      "4     415\n",
      "5     399\n",
      "6     455\n",
      "7     460\n",
      "8     430\n",
      "9     440\n",
      "10    465\n",
      "11    467\n",
      "12    490\n",
      "13    515\n",
      "14    535\n",
      "15    540\n",
      "16    550\n",
      "17    580\n",
      "Name: Median Price of Established House Transfers (Unstratified) ;  Brisbane ;, dtype: int64\n"
     ]
    }
   ],
   "source": [
    "brisbane_median = housing_data.iloc[:,5] \n",
    "print(brisbane_median)"
   ]
  },
  {
   "cell_type": "code",
   "execution_count": 50,
   "metadata": {},
   "outputs": [
    {
     "name": "stdout",
     "output_type": "stream",
     "text": [
      "[0.0472972972972973, 0.03225806451612903, 0.071875, 0.2099125364431487, -0.03855421686746988, 0.14035087719298245, 0.01098901098901099, -0.06521739130434782, 0.023255813953488372, 0.056818181818181816, 0.004301075268817204, 0.04925053533190578, 0.05102040816326531, 0.038834951456310676, 0.009345794392523364, 0.018518518518518517, 0.05454545454545454]\n"
     ]
    }
   ],
   "source": [
    "percentage = []\n",
    "for i in range (1, len (brisbane_median)):\n",
    "    percentage.append((brisbane_median[i]-brisbane_median[i-1])/brisbane_median[i-1])\n",
    "print(percentage)"
   ]
  },
  {
   "cell_type": "code",
   "execution_count": 51,
   "metadata": {},
   "outputs": [],
   "source": [
    "average_percentage = sum(percentage)/len(percentage)"
   ]
  },
  {
   "cell_type": "code",
   "execution_count": 52,
   "metadata": {},
   "outputs": [
    {
     "data": {
      "text/plain": [
       "580"
      ]
     },
     "execution_count": 52,
     "metadata": {},
     "output_type": "execute_result"
    }
   ],
   "source": [
    "brisbane_median[len(brisbane_median)-1]"
   ]
  },
  {
   "cell_type": "code",
   "execution_count": 53,
   "metadata": {},
   "outputs": [],
   "source": [
    "median_next = round(average_percentage*brisbane_median[len(brisbane_median)-1])+brisbane_median[len(brisbane_median)-1]"
   ]
  },
  {
   "cell_type": "code",
   "execution_count": 54,
   "metadata": {},
   "outputs": [],
   "source": [
    "brisbane_median2 = []\n",
    "for median in brisbane_median:\n",
    "    brisbane_median2.append(median)"
   ]
  },
  {
   "cell_type": "code",
   "execution_count": 55,
   "metadata": {},
   "outputs": [],
   "source": [
    "for i in range (5):\n",
    "    brisbane_median2.append(median_next)\n",
    "    percentage = []\n",
    "    for i in range (1, len (brisbane_median2)):\n",
    "        percentage.append((brisbane_median2[i]-brisbane_median2[i-1])/brisbane_median2[i-1])\n",
    "    average_percentage = sum(percentage)/len(percentage)\n",
    "    median_next = round(average_percentage*brisbane_median2[len(brisbane_median2)-1])+brisbane_median2[len(brisbane_median2)-1]"
   ]
  },
  {
   "cell_type": "code",
   "execution_count": 56,
   "metadata": {},
   "outputs": [
    {
     "data": {
      "text/plain": [
       "[296,\n",
       " 310,\n",
       " 320,\n",
       " 343,\n",
       " 415,\n",
       " 399,\n",
       " 455,\n",
       " 460,\n",
       " 430,\n",
       " 440,\n",
       " 465,\n",
       " 467,\n",
       " 490,\n",
       " 515,\n",
       " 535,\n",
       " 540,\n",
       " 550,\n",
       " 580,\n",
       " 604,\n",
       " 629,\n",
       " 655,\n",
       " 682,\n",
       " 711]"
      ]
     },
     "execution_count": 56,
     "metadata": {},
     "output_type": "execute_result"
    }
   ],
   "source": [
    "brisbane_median2"
   ]
  },
  {
   "cell_type": "code",
   "execution_count": 57,
   "metadata": {},
   "outputs": [
    {
     "name": "stdout",
     "output_type": "stream",
     "text": [
      "0     247\n",
      "1     270\n",
      "2     280\n",
      "3     300\n",
      "4     358\n",
      "5     355\n",
      "6     398\n",
      "7     410\n",
      "8     385\n",
      "9     395\n",
      "10    412\n",
      "11    425\n",
      "12    436\n",
      "13    447\n",
      "14    470\n",
      "15    480\n",
      "16    485\n",
      "17    520\n",
      "Name: Median Price of Established House Transfers (Unstratified) ;  Adelaide ;, dtype: int64\n"
     ]
    }
   ],
   "source": [
    "adelaide_median = housing_data.iloc[:,7] \n",
    "print(adelaide_median)"
   ]
  },
  {
   "cell_type": "code",
   "execution_count": 58,
   "metadata": {},
   "outputs": [
    {
     "name": "stdout",
     "output_type": "stream",
     "text": [
      "[0.0931174089068826, 0.037037037037037035, 0.07142857142857142, 0.19333333333333333, -0.008379888268156424, 0.12112676056338029, 0.03015075376884422, -0.06097560975609756, 0.025974025974025976, 0.043037974683544304, 0.03155339805825243, 0.02588235294117647, 0.02522935779816514, 0.05145413870246085, 0.02127659574468085, 0.010416666666666666, 0.07216494845360824]\n"
     ]
    }
   ],
   "source": [
    "percentage = []\n",
    "for i in range (1, len (adelaide_median)):\n",
    "    percentage.append((adelaide_median[i]-adelaide_median[i-1])/adelaide_median[i-1])\n",
    "print(percentage)"
   ]
  },
  {
   "cell_type": "code",
   "execution_count": 59,
   "metadata": {},
   "outputs": [],
   "source": [
    "average_percentage = sum(percentage)/len(percentage)"
   ]
  },
  {
   "cell_type": "code",
   "execution_count": 60,
   "metadata": {},
   "outputs": [
    {
     "data": {
      "text/plain": [
       "520"
      ]
     },
     "execution_count": 60,
     "metadata": {},
     "output_type": "execute_result"
    }
   ],
   "source": [
    "adelaide_median[len(adelaide_median)-1]"
   ]
  },
  {
   "cell_type": "code",
   "execution_count": 61,
   "metadata": {},
   "outputs": [],
   "source": [
    "median_next = round(average_percentage*adelaide_median[len(adelaide_median)-1])+adelaide_median[len(adelaide_median)-1]"
   ]
  },
  {
   "cell_type": "code",
   "execution_count": 62,
   "metadata": {},
   "outputs": [],
   "source": [
    "adelaide_median2 = []\n",
    "for median in adelaide_median:\n",
    "    adelaide_median2.append(median)"
   ]
  },
  {
   "cell_type": "code",
   "execution_count": 63,
   "metadata": {},
   "outputs": [],
   "source": [
    "for i in range (5):\n",
    "    adelaide_median2.append(median_next)\n",
    "    percentage = []\n",
    "    for i in range (1, len (adelaide_median2)):\n",
    "        percentage.append((adelaide_median2[i]-adelaide_median2[i-1])/adelaide_median2[i-1])\n",
    "    average_percentage = sum(percentage)/len(percentage)\n",
    "    median_next = round(average_percentage*adelaide_median2[len(adelaide_median2)-1])+adelaide_median2[len(adelaide_median2)-1]"
   ]
  },
  {
   "cell_type": "code",
   "execution_count": 64,
   "metadata": {},
   "outputs": [
    {
     "data": {
      "text/plain": [
       "[247,\n",
       " 270,\n",
       " 280,\n",
       " 300,\n",
       " 358,\n",
       " 355,\n",
       " 398,\n",
       " 410,\n",
       " 385,\n",
       " 395,\n",
       " 412,\n",
       " 425,\n",
       " 436,\n",
       " 447,\n",
       " 470,\n",
       " 480,\n",
       " 485,\n",
       " 520,\n",
       " 544,\n",
       " 569,\n",
       " 595,\n",
       " 622,\n",
       " 651]"
      ]
     },
     "execution_count": 64,
     "metadata": {},
     "output_type": "execute_result"
    }
   ],
   "source": [
    "adelaide_median2"
   ]
  },
  {
   "cell_type": "code",
   "execution_count": 65,
   "metadata": {},
   "outputs": [
    {
     "name": "stdout",
     "output_type": "stream",
     "text": [
      "0     250\n",
      "1     280\n",
      "2     340\n",
      "3     470\n",
      "4     480\n",
      "5     425\n",
      "6     505\n",
      "7     500\n",
      "8     480\n",
      "9     510\n",
      "10    552\n",
      "11    531\n",
      "12    525\n",
      "13    525\n",
      "14    515\n",
      "15    489\n",
      "16    495\n",
      "17    526\n",
      "Name: Median Price of Established House Transfers (Unstratified) ;  Perth ;, dtype: int64\n"
     ]
    }
   ],
   "source": [
    "perth_median = housing_data.iloc[:,9] \n",
    "print(perth_median)"
   ]
  },
  {
   "cell_type": "code",
   "execution_count": 66,
   "metadata": {},
   "outputs": [
    {
     "name": "stdout",
     "output_type": "stream",
     "text": [
      "[0.12, 0.21428571428571427, 0.38235294117647056, 0.02127659574468085, -0.11458333333333333, 0.18823529411764706, -0.009900990099009901, -0.04, 0.0625, 0.08235294117647059, -0.03804347826086957, -0.011299435028248588, 0.0, -0.01904761904761905, -0.05048543689320388, 0.012269938650306749, 0.06262626262626263]\n"
     ]
    }
   ],
   "source": [
    "percentage = []\n",
    "for i in range (1, len (perth_median)):\n",
    "    percentage.append((perth_median[i]-perth_median[i-1])/perth_median[i-1])\n",
    "print(percentage)"
   ]
  },
  {
   "cell_type": "code",
   "execution_count": 67,
   "metadata": {},
   "outputs": [],
   "source": [
    "average_percentage = sum(percentage)/len(percentage)"
   ]
  },
  {
   "cell_type": "code",
   "execution_count": 68,
   "metadata": {},
   "outputs": [
    {
     "data": {
      "text/plain": [
       "526"
      ]
     },
     "execution_count": 68,
     "metadata": {},
     "output_type": "execute_result"
    }
   ],
   "source": [
    "perth_median[len(perth_median)-1]"
   ]
  },
  {
   "cell_type": "code",
   "execution_count": 69,
   "metadata": {},
   "outputs": [],
   "source": [
    "median_next = round(average_percentage*perth_median[len(perth_median)-1])+perth_median[len(perth_median)-1]"
   ]
  },
  {
   "cell_type": "code",
   "execution_count": 70,
   "metadata": {},
   "outputs": [],
   "source": [
    "perth_median2 = []\n",
    "for median in perth_median:\n",
    "    perth_median2.append(median)"
   ]
  },
  {
   "cell_type": "code",
   "execution_count": 71,
   "metadata": {},
   "outputs": [],
   "source": [
    "for i in range (5):\n",
    "    perth_median2.append(median_next)\n",
    "    percentage = []\n",
    "    for i in range (1, len (perth_median2)):\n",
    "        percentage.append((perth_median2[i]-perth_median2[i-1])/perth_median2[i-1])\n",
    "    average_percentage = sum(percentage)/len(percentage)\n",
    "    median_next = round(average_percentage*perth_median2[len(perth_median2)-1])+perth_median2[len(perth_median2)-1]"
   ]
  },
  {
   "cell_type": "code",
   "execution_count": 72,
   "metadata": {},
   "outputs": [
    {
     "data": {
      "text/plain": [
       "[250,\n",
       " 280,\n",
       " 340,\n",
       " 470,\n",
       " 480,\n",
       " 425,\n",
       " 505,\n",
       " 500,\n",
       " 480,\n",
       " 510,\n",
       " 552,\n",
       " 531,\n",
       " 525,\n",
       " 525,\n",
       " 515,\n",
       " 489,\n",
       " 495,\n",
       " 526,\n",
       " 553,\n",
       " 581,\n",
       " 610,\n",
       " 641,\n",
       " 674]"
      ]
     },
     "execution_count": 72,
     "metadata": {},
     "output_type": "execute_result"
    }
   ],
   "source": [
    "perth_median2"
   ]
  },
  {
   "cell_type": "code",
   "execution_count": 76,
   "metadata": {},
   "outputs": [],
   "source": [
    "import matplotlib.pyplot as plt"
   ]
  },
  {
   "cell_type": "code",
   "execution_count": 84,
   "metadata": {},
   "outputs": [
    {
     "data": {
      "text/plain": [
       "23"
      ]
     },
     "execution_count": 84,
     "metadata": {},
     "output_type": "execute_result"
    }
   ],
   "source": [
    "len(sydney_median2)"
   ]
  },
  {
   "cell_type": "code",
   "execution_count": 85,
   "metadata": {},
   "outputs": [
    {
     "name": "stdout",
     "output_type": "stream",
     "text": [
      "23\n"
     ]
    }
   ],
   "source": [
    "print(len(sydney_median2))"
   ]
  },
  {
   "cell_type": "code",
   "execution_count": 86,
   "metadata": {},
   "outputs": [],
   "source": [
    "sydney_median2 = []"
   ]
  },
  {
   "cell_type": "code",
   "execution_count": 92,
   "metadata": {},
   "outputs": [
    {
     "data": {
      "image/png": "[encoded data removed]",
      "text/plain": [
       "<Figure size 432x288 with 1 Axes>"
      ]
     },
     "metadata": {
      "needs_background": "light"
     },
     "output_type": "display_data"
    }
   ],
   "source": [
    "y1 = [520,515,500,500,540,468,595,620,533,640,745,816,915,985,1029,940,986,1025,1072,1122,1174,1228,1285]\n",
    "y2 = [320,321,332,360,410,385,475,520,495,508,521,552,612,675,750,735,760,780,824,870,919,971,1026]\n",
    "y3 = [296,310,320,343,415,399,455,460,430,440,465,467,490,515,535,540,550,580,604,629,655,682,711]\n",
    "y4 = [247,270,280,300,358,355,398,410,385,395,412,425,436,447,470,480,485,520,544,569,595,622,651]\n",
    "y5 = [250,280,340,470,480,425,505,500,480,510,552,531,525,525,515,489,495,526,553,581,610,641,674]\n",
    "\n",
    "x = [2003,2004,2005,2006,2007,2008,2009,2010,2011,2012,2013,2014,2015,2016,2017,2018,2019,2020,2021,2022,2023,2024,2025]\n",
    "\n",
    "plt.plot(x, y1, label = \"Median House Price in Sydney\")\n",
    "plt.plot(x, y2, label = \"Median House Price in Melbourne\")\n",
    "plt.plot(x, y3, label = \"Median House Price in Brisbane\")\n",
    "plt.plot(x, y4, label = \"Median House Price in Adelaide\")\n",
    "plt.plot(x, y5, label = \"Median House Price in Perth\")\n",
    "\n",
    "plt.xlabel('Year')\n",
    "plt.ylabel('Median House Price ($)')\n",
    "\n",
    "plt.legend()\n",
    "\n",
    "plt.show()"
   ]
  },
  {
   "cell_type": "code",
   "execution_count": null,
   "metadata": {},
   "outputs": [],
   "source": []
  }
 ],
 "metadata": {
  "kernelspec": {
   "display_name": "Python 3",
   "language": "python",
   "name": "python3"
  },
  "language_info": {
   "codemirror_mode": {
    "name": "ipython",
    "version": 3
   },
   "file_extension": ".py",
   "mimetype": "text/x-python",
   "name": "python",
   "nbconvert_exporter": "python",
   "pygments_lexer": "ipython3",
   "version": "3.6.10"
  }
 },
 "nbformat": 4,
 "nbformat_minor": 4
}
