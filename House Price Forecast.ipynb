{
 "cells": [
  {
   "cell_type": "code",
   "execution_count": 1,
   "metadata": {},
   "outputs": [],
   "source": [
    "import pandas as pd"
   ]
  },
  {
   "cell_type": "code",
   "execution_count": 3,
   "metadata": {},
   "outputs": [],
   "source": [
    "housing_data = pd.read_csv('Desktop/housing_data.csv')"
   ]
  },
  {
   "cell_type": "code",
   "execution_count": 4,
   "metadata": {},
   "outputs": [],
   "source": [
    "sydney_median = housing_data.iloc[:,1]"
   ]
  },
  {
   "cell_type": "code",
   "execution_count": 5,
   "metadata": {},
   "outputs": [
    {
     "name": "stdout",
     "output_type": "stream",
     "text": [
      "[0.020967741935483872, 0.011058451816745656, 0.1640625, 0.0953020134228188, 0.1213235294117647, 0.07650273224043716, 0.04467005076142132, -0.08649173955296405, 0.04893617021276596, 0.03955375253549696]\n"
     ]
    }
   ],
   "source": [
    "percentage = []\n",
    "for i in range (1, len (sydney_median)):\n",
    "    percentage.append((sydney_median[i]-sydney_median[i-1])/sydney_median[i-1])\n",
    "print(percentage)"
   ]
  },
  {
   "cell_type": "code",
   "execution_count": 6,
   "metadata": {},
   "outputs": [],
   "source": [
    "average_percentage = sum(percentage)/len(percentage)"
   ]
  },
  {
   "cell_type": "code",
   "execution_count": 7,
   "metadata": {},
   "outputs": [
    {
     "data": {
      "text/plain": [
       "1025"
      ]
     },
     "execution_count": 7,
     "metadata": {},
     "output_type": "execute_result"
    }
   ],
   "source": [
    "sydney_median[len(sydney_median)-1]"
   ]
  },
  {
   "cell_type": "code",
   "execution_count": 8,
   "metadata": {},
   "outputs": [],
   "source": [
    "median_next = round(average_percentage*sydney_median[len(sydney_median)-1])+sydney_median[len(sydney_median)-1]"
   ]
  },
  {
   "cell_type": "code",
   "execution_count": 9,
   "metadata": {},
   "outputs": [],
   "source": [
    "sydney_median2 = []\n",
    "for median in sydney_median:\n",
    "    sydney_median2.append(median)"
   ]
  },
  {
   "cell_type": "code",
   "execution_count": 10,
   "metadata": {},
   "outputs": [],
   "source": [
    "for i in range (5):\n",
    "    sydney_median2.append(median_next)\n",
    "    percentage = []\n",
    "    for i in range (1, len (sydney_median2)):\n",
    "        percentage.append((sydney_median2[i]-sydney_median2[i-1])/sydney_median2[i-1])\n",
    "    average_percentage = sum(percentage)/len(percentage)\n",
    "    median_next = round(average_percentage*sydney_median2[len(sydney_median2)-1])+sydney_median2[len(sydney_median2)-1]"
   ]
  },
  {
   "cell_type": "code",
   "execution_count": 11,
   "metadata": {},
   "outputs": [],
   "source": [
    "melbourne_median = housing_data.iloc[:,3]"
   ]
  },
  {
   "cell_type": "code",
   "execution_count": 12,
   "metadata": {},
   "outputs": [
    {
     "name": "stdout",
     "output_type": "stream",
     "text": [
      "[-0.04807692307692308, 0.026262626262626262, 0.025590551181102362, 0.05950095969289827, 0.10869565217391304, 0.10294117647058823, 0.1111111111111111, -0.02, 0.034013605442176874, 0.02631578947368421]\n"
     ]
    }
   ],
   "source": [
    "percentage = []\n",
    "for i in range (1, len (melbourne_median)):\n",
    "    percentage.append((melbourne_median[i]-melbourne_median[i-1])/melbourne_median[i-1])\n",
    "print(percentage)"
   ]
  },
  {
   "cell_type": "code",
   "execution_count": 13,
   "metadata": {},
   "outputs": [],
   "source": [
    "average_percentage = sum(percentage)/len(percentage)"
   ]
  },
  {
   "cell_type": "code",
   "execution_count": 14,
   "metadata": {},
   "outputs": [
    {
     "data": {
      "text/plain": [
       "780"
      ]
     },
     "execution_count": 14,
     "metadata": {},
     "output_type": "execute_result"
    }
   ],
   "source": [
    "melbourne_median[len(melbourne_median)-1]"
   ]
  },
  {
   "cell_type": "code",
   "execution_count": 15,
   "metadata": {},
   "outputs": [],
   "source": [
    "median_next = round(average_percentage*melbourne_median[len(melbourne_median)-1])+melbourne_median[len(melbourne_median)-1]"
   ]
  },
  {
   "cell_type": "code",
   "execution_count": 16,
   "metadata": {},
   "outputs": [],
   "source": [
    "melbourne_median2 = []\n",
    "for median in melbourne_median:\n",
    "    melbourne_median2.append(median)"
   ]
  },
  {
   "cell_type": "code",
   "execution_count": 17,
   "metadata": {},
   "outputs": [],
   "source": [
    "for i in range (5):\n",
    "    melbourne_median2.append(median_next)\n",
    "    percentage = []\n",
    "    for i in range (1, len (melbourne_median2)):\n",
    "        percentage.append((melbourne_median2[i]-melbourne_median2[i-1])/melbourne_median2[i-1])\n",
    "    average_percentage = sum(percentage)/len(percentage)\n",
    "    median_next = round(average_percentage*melbourne_median2[len(melbourne_median2)-1])+melbourne_median2[len(melbourne_median2)-1]"
   ]
  },
  {
   "cell_type": "code",
   "execution_count": 18,
   "metadata": {},
   "outputs": [
    {
     "name": "stdout",
     "output_type": "stream",
     "text": [
      "0     460\n",
      "1     430\n",
      "2     440\n",
      "3     465\n",
      "4     467\n",
      "5     490\n",
      "6     515\n",
      "7     535\n",
      "8     540\n",
      "9     550\n",
      "10    580\n",
      "Name: Median Price of Established House Transfers (Unstratified) ;  Brisbane ;, dtype: int64\n"
     ]
    }
   ],
   "source": [
    "brisbane_median = housing_data.iloc[:,5] \n",
    "print(brisbane_median)"
   ]
  },
  {
   "cell_type": "code",
   "execution_count": 19,
   "metadata": {},
   "outputs": [
    {
     "name": "stdout",
     "output_type": "stream",
     "text": [
      "[-0.06521739130434782, 0.023255813953488372, 0.056818181818181816, 0.004301075268817204, 0.04925053533190578, 0.05102040816326531, 0.038834951456310676, 0.009345794392523364, 0.018518518518518517, 0.05454545454545454]\n"
     ]
    }
   ],
   "source": [
    "percentage = []\n",
    "for i in range (1, len (brisbane_median)):\n",
    "    percentage.append((brisbane_median[i]-brisbane_median[i-1])/brisbane_median[i-1])\n",
    "print(percentage)"
   ]
  },
  {
   "cell_type": "code",
   "execution_count": 20,
   "metadata": {},
   "outputs": [],
   "source": [
    "average_percentage = sum(percentage)/len(percentage)"
   ]
  },
  {
   "cell_type": "code",
   "execution_count": 21,
   "metadata": {},
   "outputs": [
    {
     "data": {
      "text/plain": [
       "580"
      ]
     },
     "execution_count": 21,
     "metadata": {},
     "output_type": "execute_result"
    }
   ],
   "source": [
    "brisbane_median[len(brisbane_median)-1]"
   ]
  },
  {
   "cell_type": "code",
   "execution_count": 22,
   "metadata": {},
   "outputs": [],
   "source": [
    "median_next = round(average_percentage*brisbane_median[len(brisbane_median)-1])+brisbane_median[len(brisbane_median)-1]"
   ]
  },
  {
   "cell_type": "code",
   "execution_count": 23,
   "metadata": {},
   "outputs": [],
   "source": [
    "brisbane_median2 = []\n",
    "for median in brisbane_median:\n",
    "    brisbane_median2.append(median)"
   ]
  },
  {
   "cell_type": "code",
   "execution_count": 24,
   "metadata": {},
   "outputs": [],
   "source": [
    "for i in range (5):\n",
    "    brisbane_median2.append(median_next)\n",
    "    percentage = []\n",
    "    for i in range (1, len (brisbane_median2)):\n",
    "        percentage.append((brisbane_median2[i]-brisbane_median2[i-1])/brisbane_median2[i-1])\n",
    "    average_percentage = sum(percentage)/len(percentage)\n",
    "    median_next = round(average_percentage*brisbane_median2[len(brisbane_median2)-1])+brisbane_median2[len(brisbane_median2)-1]"
   ]
  },
  {
   "cell_type": "code",
   "execution_count": 25,
   "metadata": {},
   "outputs": [
    {
     "name": "stdout",
     "output_type": "stream",
     "text": [
      "0     410\n",
      "1     385\n",
      "2     395\n",
      "3     412\n",
      "4     425\n",
      "5     436\n",
      "6     447\n",
      "7     470\n",
      "8     480\n",
      "9     485\n",
      "10    520\n",
      "Name: Median Price of Established House Transfers (Unstratified) ;  Adelaide ;, dtype: int64\n"
     ]
    }
   ],
   "source": [
    "adelaide_median = housing_data.iloc[:,7] \n",
    "print(adelaide_median)"
   ]
  },
  {
   "cell_type": "code",
   "execution_count": 26,
   "metadata": {},
   "outputs": [
    {
     "name": "stdout",
     "output_type": "stream",
     "text": [
      "[-0.06097560975609756, 0.025974025974025976, 0.043037974683544304, 0.03155339805825243, 0.02588235294117647, 0.02522935779816514, 0.05145413870246085, 0.02127659574468085, 0.010416666666666666, 0.07216494845360824]\n"
     ]
    }
   ],
   "source": [
    "percentage = []\n",
    "for i in range (1, len (adelaide_median)):\n",
    "    percentage.append((adelaide_median[i]-adelaide_median[i-1])/adelaide_median[i-1])\n",
    "print(percentage)"
   ]
  },
  {
   "cell_type": "code",
   "execution_count": 27,
   "metadata": {},
   "outputs": [],
   "source": [
    "average_percentage = sum(percentage)/len(percentage)"
   ]
  },
  {
   "cell_type": "code",
   "execution_count": 28,
   "metadata": {},
   "outputs": [
    {
     "data": {
      "text/plain": [
       "520"
      ]
     },
     "execution_count": 28,
     "metadata": {},
     "output_type": "execute_result"
    }
   ],
   "source": [
    "adelaide_median[len(adelaide_median)-1]"
   ]
  },
  {
   "cell_type": "code",
   "execution_count": 29,
   "metadata": {},
   "outputs": [],
   "source": [
    "median_next = round(average_percentage*adelaide_median[len(adelaide_median)-1])+adelaide_median[len(adelaide_median)-1]"
   ]
  },
  {
   "cell_type": "code",
   "execution_count": 30,
   "metadata": {},
   "outputs": [],
   "source": [
    "adelaide_median2 = []\n",
    "for median in adelaide_median:\n",
    "    adelaide_median2.append(median)"
   ]
  },
  {
   "cell_type": "code",
   "execution_count": 31,
   "metadata": {},
   "outputs": [],
   "source": [
    "for i in range (5):\n",
    "    adelaide_median2.append(median_next)\n",
    "    percentage = []\n",
    "    for i in range (1, len (adelaide_median2)):\n",
    "        percentage.append((adelaide_median2[i]-adelaide_median2[i-1])/adelaide_median2[i-1])\n",
    "    average_percentage = sum(percentage)/len(percentage)\n",
    "    median_next = round(average_percentage*adelaide_median2[len(adelaide_median2)-1])+adelaide_median2[len(adelaide_median2)-1]"
   ]
  },
  {
   "cell_type": "code",
   "execution_count": 32,
   "metadata": {},
   "outputs": [
    {
     "name": "stdout",
     "output_type": "stream",
     "text": [
      "0     500\n",
      "1     480\n",
      "2     510\n",
      "3     552\n",
      "4     531\n",
      "5     525\n",
      "6     525\n",
      "7     515\n",
      "8     489\n",
      "9     495\n",
      "10    526\n",
      "Name: Median Price of Established House Transfers (Unstratified) ;  Perth ;, dtype: int64\n"
     ]
    }
   ],
   "source": [
    "perth_median = housing_data.iloc[:,9] \n",
    "print(perth_median)"
   ]
  },
  {
   "cell_type": "code",
   "execution_count": 33,
   "metadata": {},
   "outputs": [
    {
     "name": "stdout",
     "output_type": "stream",
     "text": [
      "[-0.04, 0.0625, 0.08235294117647059, -0.03804347826086957, -0.011299435028248588, 0.0, -0.01904761904761905, -0.05048543689320388, 0.012269938650306749, 0.06262626262626263]\n"
     ]
    }
   ],
   "source": [
    "percentage = []\n",
    "for i in range (1, len (perth_median)):\n",
    "    percentage.append((perth_median[i]-perth_median[i-1])/perth_median[i-1])\n",
    "print(percentage)"
   ]
  },
  {
   "cell_type": "code",
   "execution_count": 34,
   "metadata": {},
   "outputs": [],
   "source": [
    "average_percentage = sum(percentage)/len(percentage)"
   ]
  },
  {
   "cell_type": "code",
   "execution_count": 35,
   "metadata": {},
   "outputs": [
    {
     "data": {
      "text/plain": [
       "526"
      ]
     },
     "execution_count": 35,
     "metadata": {},
     "output_type": "execute_result"
    }
   ],
   "source": [
    "perth_median[len(perth_median)-1]"
   ]
  },
  {
   "cell_type": "code",
   "execution_count": 38,
   "metadata": {},
   "outputs": [],
   "source": [
    "median_next = round(average_percentage*perth_median[len(perth_median)-1])+perth_median[len(perth_median)-1]"
   ]
  },
  {
   "cell_type": "code",
   "execution_count": 39,
   "metadata": {},
   "outputs": [],
   "source": [
    "perth_median2 = []\n",
    "for median in perth_median:\n",
    "    perth_median2.append(median)"
   ]
  },
  {
   "cell_type": "code",
   "execution_count": 40,
   "metadata": {},
   "outputs": [],
   "source": [
    "for i in range (5):\n",
    "    perth_median2.append(median_next)\n",
    "    percentage = []\n",
    "    for i in range (1, len (perth_median2)):\n",
    "        percentage.append((perth_median2[i]-perth_median2[i-1])/perth_median2[i-1])\n",
    "    average_percentage = sum(percentage)/len(percentage)\n",
    "    median_next = round(average_percentage*perth_median2[len(perth_median2)-1])+perth_median2[len(perth_median2)-1]"
   ]
  },
  {
   "cell_type": "code",
   "execution_count": 41,
   "metadata": {},
   "outputs": [],
   "source": [
    "import matplotlib.pyplot as plt"
   ]
  },
  {
   "cell_type": "code",
   "execution_count": 42,
   "metadata": {},
   "outputs": [],
   "source": [
    "sydney_median2 = []"
   ]
  },
  {
   "cell_type": "code",
   "execution_count": 53,
   "metadata": {},
   "outputs": [
    {
     "data": {
      "image/png": "[encoded data removed]",
      "text/plain": [
       "<Figure size 864x576 with 1 Axes>"
      ]
     },
     "metadata": {
      "needs_background": "light"
     },
     "output_type": "display_data"
    }
   ],
   "source": [
    "y1 = [520,515,500,500,540,468,595,620,533,640,745,816,915,985,1029,940,986,1025,1072,1122,1174,1228,1285]\n",
    "y2 = [320,321,332,360,410,385,475,520,495,508,521,552,612,675,750,735,760,780,824,870,919,971,1026]\n",
    "y3 = [296,310,320,343,415,399,455,460,430,440,465,467,490,515,535,540,550,580,604,629,655,682,711]\n",
    "y4 = [247,270,280,300,358,355,398,410,385,395,412,425,436,447,470,480,485,520,544,569,595,622,651]\n",
    "y5 = [250,280,340,470,480,425,505,500,480,510,552,531,525,525,515,489,495,526,553,581,610,641,674]\n",
    "\n",
    "x = [2003,2004,2005,2006,2007,2008,2009,2010,2011,2012,2013,2014,2015,2016,2017,2018,2019,2020,2021,2022,2023,2024,2025]\n",
    "\n",
    "plt.figure(figsize=(12,8)) \n",
    "plt.plot(x, y1, color=\"red\", marker='o', label = \"Sydney\")\n",
    "plt.plot(x, y2, color=\"seagreen\", marker='o', label = \"Melbourne\")\n",
    "plt.plot(x, y3, color=\"orange\", marker='o', label = \"Brisbane\")\n",
    "plt.plot(x, y4, color=\"cornflowerblue\", marker='o', label = \"Adelaide\")\n",
    "plt.plot(x, y5, color=\"purple\", marker='o', label = \"Perth\")\n",
    "plt.xticks(rotation=0, font='Arial', fontsize=13)\n",
    "plt.yticks(rotation=0, font='Arial', fontsize=13)\n",
    "\n",
    "plt.title(\"Capital City House Price Growth Forecast\", font='Arial Black', fontsize=18)\n",
    "plt.xlabel(\"Year\", font='Arial Black', fontsize=16)\n",
    "plt.ylabel(\"Median House Price ($,000)\", font='Arial Black', fontsize=16)\n",
    "\n",
    "plt.legend(prop={'size': 15})\n",
    "\n",
    "plt.show()"
   ]
  },
  {
   "cell_type": "code",
   "execution_count": null,
   "metadata": {},
   "outputs": [],
   "source": [
    "plt.figure(figsize=(12,8)) \n",
    "plt.plot(x_axis, nsw_regional, color=\"red\", marker='o', label=\"NSW Regional\") \n",
    "plt.plot(x_axis, vic_regional, color=\"seagreen\", marker='o',label=\"VIC Regional\")\n",
    "plt.plot(x_axis, qld_regional, color=\"orange\", marker='o', label=\"QLD Regional\")\n",
    "plt.plot(x_axis, wa_regional, color=\"cornflowerblue\", marker='o', label=\"WA Regional\")\n",
    "plt.plot(x_axis, sa_regional, color=\"purple\", marker='o', label=\"SA Regional\")\n",
    "plt.xticks(rotation=0, font='Arial', fontsize=13)\n",
    "plt.yticks(rotation=0, font='Arial', fontsize=13)\n",
    "plt.title(\"Regional Median House Price: 2010 - 2020\", font='Arial Black', fontsize=18)\n",
    "plt.xlabel(\"Year\", font='Arial Black', fontsize=16)\n",
    "plt.ylabel(\"Median House Price ($,000)\", font='Arial Black', fontsize=16)\n",
    "plt.legend(prop={'size': 15})\n",
    "print(\"\")"
   ]
  }
 ],
 "metadata": {
  "kernelspec": {
   "display_name": "Python 3",
   "language": "python",
   "name": "python3"
  },
  "language_info": {
   "codemirror_mode": {
    "name": "ipython",
    "version": 3
   },
   "file_extension": ".py",
   "mimetype": "text/x-python",
   "name": "python",
   "nbconvert_exporter": "python",
   "pygments_lexer": "ipython3",
   "version": "3.8.5"
  }
 },
 "nbformat": 4,
 "nbformat_minor": 4
}
